{
 "cells": [
  {
   "cell_type": "code",
   "execution_count": 37,
   "id": "df1090e6-4139-4e5b-8f57-9bd64c5395db",
   "metadata": {},
   "outputs": [],
   "source": [
    "import matplotlib.pyplot as plt\n",
    "import numpy as np\n",
    "import string"
   ]
  },
  {
   "cell_type": "code",
   "execution_count": 79,
   "id": "455ccb4d-8292-44d8-aa63-4467a0137bd0",
   "metadata": {
    "editable": true,
    "slideshow": {
     "slide_type": ""
    },
    "tags": []
   },
   "outputs": [
    {
     "name": "stdout",
     "output_type": "stream",
     "text": [
      "0 7 19 19 0 3 11 0 25 1 5 37 14 49 0 11 0 65 28 46 4 9 3 0 10 0 \n",
      "11 0 0 0 19 0 0 0 3 2 0 13 0 0 15 0 0 10 2 1 5 0 0 0 2 0 \n",
      "18 0 2 0 32 0 0 32 9 0 15 11 0 0 37 0 0 7 0 24 7 0 0 0 0 0 \n",
      "5 0 0 3 34 0 1 0 14 0 0 1 0 0 11 0 0 9 0 0 5 0 0 0 5 0 \n",
      "63 0 26 9 27 4 7 1 6 0 1 28 10 59 1 12 3 79 26 25 0 11 5 9 5 0 \n",
      "13 0 0 0 13 7 0 0 18 0 0 5 0 0 11 0 0 8 0 5 2 0 0 0 0 0 \n",
      "10 0 0 0 21 0 2 20 7 0 0 4 1 3 7 0 0 12 0 1 5 0 0 0 1 0 \n",
      "25 1 0 0 37 0 0 0 24 0 0 0 0 0 28 0 0 4 0 14 6 0 0 0 1 0 \n",
      "4 2 20 14 14 6 18 0 0 0 1 26 11 68 15 4 1 17 21 24 0 9 0 3 0 1 \n",
      "0 0 0 0 2 0 0 0 0 0 0 0 0 0 4 0 0 0 0 0 2 0 0 0 0 0 \n",
      "0 0 0 0 10 0 0 0 5 0 0 0 0 2 0 0 0 0 0 0 0 0 0 0 1 0 \n",
      "31 0 0 17 51 2 0 0 15 0 3 36 0 0 28 1 0 0 2 5 6 2 1 0 8 0 \n",
      "23 4 0 0 28 0 0 0 14 0 0 0 2 1 18 8 0 0 0 0 4 0 0 0 2 0 \n",
      "8 0 11 32 35 0 30 0 7 0 4 1 0 1 15 0 0 0 8 49 4 1 0 0 5 0 \n",
      "6 5 8 12 3 6 3 1 6 0 6 23 14 55 23 16 0 40 15 22 41 8 26 2 2 0 \n",
      "19 0 0 0 28 0 0 2 5 0 0 17 0 0 15 7 0 20 1 3 4 0 0 0 2 0 \n",
      "0 0 0 0 0 0 0 0 0 0 0 0 0 0 0 0 0 0 0 0 11 0 0 0 0 0 \n",
      "36 1 4 14 74 1 4 1 28 0 4 3 6 10 41 2 0 6 4 16 7 2 1 0 15 0 \n",
      "12 0 6 0 54 0 0 23 23 0 4 5 3 1 17 12 1 0 16 59 20 0 2 0 4 0 \n",
      "21 0 5 0 51 0 0 48 24 0 0 3 0 0 22 0 0 24 0 10 9 0 3 0 7 0 \n",
      "6 7 8 6 6 1 11 0 9 0 0 13 7 20 1 4 0 22 15 11 0 0 0 0 1 0 \n",
      "3 0 0 0 39 0 0 0 6 0 0 0 0 0 3 0 0 0 0 0 0 0 0 0 1 0 \n",
      "15 0 0 1 15 0 0 12 13 0 0 0 0 4 10 0 0 4 0 0 0 0 0 0 0 0 \n",
      "2 0 2 0 1 0 0 0 0 0 0 0 0 0 0 3 0 0 0 1 0 0 0 0 1 0 \n",
      "1 0 0 0 5 0 1 0 0 0 0 1 1 0 3 1 0 0 2 0 0 0 0 0 0 0 \n",
      "0 0 0 0 1 0 0 0 0 0 0 0 0 0 0 0 0 0 0 0 0 0 0 0 0 0 \n"
     ]
    },
    {
     "ename": "NameError",
     "evalue": "name 'string' is not defined",
     "output_type": "error",
     "traceback": [
      "\u001b[0;31m---------------------------------------------------------------------------\u001b[0m",
      "\u001b[0;31mNameError\u001b[0m                                 Traceback (most recent call last)",
      "Cell \u001b[0;32mIn[79], line 15\u001b[0m\n\u001b[1;32m     12\u001b[0m         \u001b[38;5;28mprint\u001b[39m(data[r,c], end \u001b[38;5;241m=\u001b[39m \u001b[38;5;124m'\u001b[39m\u001b[38;5;124m \u001b[39m\u001b[38;5;124m'\u001b[39m)\n\u001b[1;32m     13\u001b[0m     \u001b[38;5;28mprint\u001b[39m()\n\u001b[0;32m---> 15\u001b[0m alphabet \u001b[38;5;241m=\u001b[39m \u001b[38;5;28mlist\u001b[39m(string\u001b[38;5;241m.\u001b[39mascii_uppercase)\n\u001b[1;32m     17\u001b[0m plt\u001b[38;5;241m.\u001b[39mfigure(figsize\u001b[38;5;241m=\u001b[39m(\u001b[38;5;241m8\u001b[39m, \u001b[38;5;241m8\u001b[39m))\n\u001b[1;32m     18\u001b[0m plt\u001b[38;5;241m.\u001b[39mimshow(data, cmap\u001b[38;5;241m=\u001b[39m\u001b[38;5;124m'\u001b[39m\u001b[38;5;124mviridis\u001b[39m\u001b[38;5;124m'\u001b[39m, interpolation\u001b[38;5;241m=\u001b[39m\u001b[38;5;124m'\u001b[39m\u001b[38;5;124mnearest\u001b[39m\u001b[38;5;124m'\u001b[39m, aspect\u001b[38;5;241m=\u001b[39m\u001b[38;5;124m'\u001b[39m\u001b[38;5;124mequal\u001b[39m\u001b[38;5;124m'\u001b[39m)\n",
      "\u001b[0;31mNameError\u001b[0m: name 'string' is not defined"
     ]
    }
   ],
   "source": [
    "words = open('words.txt', 'r').read().splitlines()\n",
    "word = 'cheese'\n",
    "\n",
    "data = np.zeros((26,26), dtype=int)\n",
    "\n",
    "for word in words:\n",
    "    for char in range(len(word) - 1):\n",
    "        data[ord(word[char]) - 97, ord(word[char + 1]) - 97] += 1\n",
    "\n",
    "for r in range(len(bigram)):\n",
    "    for c in range(len(bigram)):\n",
    "        print(data[r,c], end = ' ')\n",
    "    print()\n",
    "\n",
    "alphabet = list(string.ascii_uppercase)\n",
    "\n",
    "plt.figure(figsize=(8, 8))\n",
    "plt.imshow(data, cmap='viridis', interpolation='nearest', aspect='equal')\n",
    "plt.colorbar(label='Value')\n",
    "plt.xticks(np.arange(0, 26, 1), labels=alphabet)\n",
    "plt.yticks(np.arange(0, 26, 1), labels=alphabet)\n",
    "plt.show()\n",
    "    "
   ]
  },
  {
   "cell_type": "code",
   "execution_count": null,
   "id": "f139bd94-dbc6-492d-a1d1-9c1ac7300e53",
   "metadata": {
    "editable": true,
    "slideshow": {
     "slide_type": ""
    },
    "tags": []
   },
   "outputs": [],
   "source": []
  }
 ],
 "metadata": {
  "kernelspec": {
   "display_name": "Python 3 (ipykernel)",
   "language": "python",
   "name": "python3"
  },
  "language_info": {
   "codemirror_mode": {
    "name": "ipython",
    "version": 3
   },
   "file_extension": ".py",
   "mimetype": "text/x-python",
   "name": "python",
   "nbconvert_exporter": "python",
   "pygments_lexer": "ipython3",
   "version": "3.13.5"
  }
 },
 "nbformat": 4,
 "nbformat_minor": 5
}
